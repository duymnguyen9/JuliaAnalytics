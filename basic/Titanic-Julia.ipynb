{
 "cells": [
  {
   "cell_type": "code",
   "execution_count": 1,
   "metadata": {
    "collapsed": true
   },
   "outputs": [],
   "source": [
    "using DataFrames\n",
    "using Plots"
   ]
  },
  {
   "cell_type": "code",
   "execution_count": 2,
   "metadata": {},
   "outputs": [
    {
     "data": {
      "text/html": [
       "<table class=\"data-frame\"><thead><tr><th></th><th>PassengerId</th><th>Survived</th><th>Pclass</th><th>Name</th><th>Sex</th><th>Age</th><th>SibSp</th><th>Parch</th><th>Ticket</th><th>Fare</th><th>Cabin</th><th>Embarked</th></tr></thead><tbody><tr><th>1</th><td>1</td><td>0</td><td>3</td><td>Braund, Mr. Owen Harris</td><td>male</td><td>22.0</td><td>1</td><td>0</td><td>A/5 21171</td><td>7.25</td><td>NA</td><td>S</td></tr><tr><th>2</th><td>2</td><td>1</td><td>1</td><td>Cumings, Mrs. John Bradley (Florence Briggs Thayer)</td><td>female</td><td>38.0</td><td>1</td><td>0</td><td>PC 17599</td><td>71.2833</td><td>C85</td><td>C</td></tr><tr><th>3</th><td>3</td><td>1</td><td>3</td><td>Heikkinen, Miss. Laina</td><td>female</td><td>26.0</td><td>0</td><td>0</td><td>STON/O2. 3101282</td><td>7.925</td><td>NA</td><td>S</td></tr><tr><th>4</th><td>4</td><td>1</td><td>1</td><td>Futrelle, Mrs. Jacques Heath (Lily May Peel)</td><td>female</td><td>35.0</td><td>1</td><td>0</td><td>113803</td><td>53.1</td><td>C123</td><td>S</td></tr><tr><th>5</th><td>5</td><td>0</td><td>3</td><td>Allen, Mr. William Henry</td><td>male</td><td>35.0</td><td>0</td><td>0</td><td>373450</td><td>8.05</td><td>NA</td><td>S</td></tr><tr><th>6</th><td>6</td><td>0</td><td>3</td><td>Moran, Mr. James</td><td>male</td><td>NA</td><td>0</td><td>0</td><td>330877</td><td>8.4583</td><td>NA</td><td>Q</td></tr><tr><th>7</th><td>7</td><td>0</td><td>1</td><td>McCarthy, Mr. Timothy J</td><td>male</td><td>54.0</td><td>0</td><td>0</td><td>17463</td><td>51.8625</td><td>E46</td><td>S</td></tr><tr><th>8</th><td>8</td><td>0</td><td>3</td><td>Palsson, Master. Gosta Leonard</td><td>male</td><td>2.0</td><td>3</td><td>1</td><td>349909</td><td>21.075</td><td>NA</td><td>S</td></tr><tr><th>9</th><td>9</td><td>1</td><td>3</td><td>Johnson, Mrs. Oscar W (Elisabeth Vilhelmina Berg)</td><td>female</td><td>27.0</td><td>0</td><td>2</td><td>347742</td><td>11.1333</td><td>NA</td><td>S</td></tr><tr><th>10</th><td>10</td><td>1</td><td>2</td><td>Nasser, Mrs. Nicholas (Adele Achem)</td><td>female</td><td>14.0</td><td>1</td><td>0</td><td>237736</td><td>30.0708</td><td>NA</td><td>C</td></tr><tr><th>11</th><td>11</td><td>1</td><td>3</td><td>Sandstrom, Miss. Marguerite Rut</td><td>female</td><td>4.0</td><td>1</td><td>1</td><td>PP 9549</td><td>16.7</td><td>G6</td><td>S</td></tr><tr><th>12</th><td>12</td><td>1</td><td>1</td><td>Bonnell, Miss. Elizabeth</td><td>female</td><td>58.0</td><td>0</td><td>0</td><td>113783</td><td>26.55</td><td>C103</td><td>S</td></tr><tr><th>13</th><td>13</td><td>0</td><td>3</td><td>Saundercock, Mr. William Henry</td><td>male</td><td>20.0</td><td>0</td><td>0</td><td>A/5. 2151</td><td>8.05</td><td>NA</td><td>S</td></tr><tr><th>14</th><td>14</td><td>0</td><td>3</td><td>Andersson, Mr. Anders Johan</td><td>male</td><td>39.0</td><td>1</td><td>5</td><td>347082</td><td>31.275</td><td>NA</td><td>S</td></tr><tr><th>15</th><td>15</td><td>0</td><td>3</td><td>Vestrom, Miss. Hulda Amanda Adolfina</td><td>female</td><td>14.0</td><td>0</td><td>0</td><td>350406</td><td>7.8542</td><td>NA</td><td>S</td></tr><tr><th>16</th><td>16</td><td>1</td><td>2</td><td>Hewlett, Mrs. (Mary D Kingcome) </td><td>female</td><td>55.0</td><td>0</td><td>0</td><td>248706</td><td>16.0</td><td>NA</td><td>S</td></tr><tr><th>17</th><td>17</td><td>0</td><td>3</td><td>Rice, Master. Eugene</td><td>male</td><td>2.0</td><td>4</td><td>1</td><td>382652</td><td>29.125</td><td>NA</td><td>Q</td></tr><tr><th>18</th><td>18</td><td>1</td><td>2</td><td>Williams, Mr. Charles Eugene</td><td>male</td><td>NA</td><td>0</td><td>0</td><td>244373</td><td>13.0</td><td>NA</td><td>S</td></tr><tr><th>19</th><td>19</td><td>0</td><td>3</td><td>Vander Planke, Mrs. Julius (Emelia Maria Vandemoortele)</td><td>female</td><td>31.0</td><td>1</td><td>0</td><td>345763</td><td>18.0</td><td>NA</td><td>S</td></tr><tr><th>20</th><td>20</td><td>1</td><td>3</td><td>Masselmani, Mrs. Fatima</td><td>female</td><td>NA</td><td>0</td><td>0</td><td>2649</td><td>7.225</td><td>NA</td><td>C</td></tr><tr><th>21</th><td>21</td><td>0</td><td>2</td><td>Fynney, Mr. Joseph J</td><td>male</td><td>35.0</td><td>0</td><td>0</td><td>239865</td><td>26.0</td><td>NA</td><td>S</td></tr><tr><th>22</th><td>22</td><td>1</td><td>2</td><td>Beesley, Mr. Lawrence</td><td>male</td><td>34.0</td><td>0</td><td>0</td><td>248698</td><td>13.0</td><td>D56</td><td>S</td></tr><tr><th>23</th><td>23</td><td>1</td><td>3</td><td>McGowan, Miss. Anna \"Annie\"</td><td>female</td><td>15.0</td><td>0</td><td>0</td><td>330923</td><td>8.0292</td><td>NA</td><td>Q</td></tr><tr><th>24</th><td>24</td><td>1</td><td>1</td><td>Sloper, Mr. William Thompson</td><td>male</td><td>28.0</td><td>0</td><td>0</td><td>113788</td><td>35.5</td><td>A6</td><td>S</td></tr><tr><th>25</th><td>25</td><td>0</td><td>3</td><td>Palsson, Miss. Torborg Danira</td><td>female</td><td>8.0</td><td>3</td><td>1</td><td>349909</td><td>21.075</td><td>NA</td><td>S</td></tr><tr><th>26</th><td>26</td><td>1</td><td>3</td><td>Asplund, Mrs. Carl Oscar (Selma Augusta Emilia Johansson)</td><td>female</td><td>38.0</td><td>1</td><td>5</td><td>347077</td><td>31.3875</td><td>NA</td><td>S</td></tr><tr><th>27</th><td>27</td><td>0</td><td>3</td><td>Emir, Mr. Farred Chehab</td><td>male</td><td>NA</td><td>0</td><td>0</td><td>2631</td><td>7.225</td><td>NA</td><td>C</td></tr><tr><th>28</th><td>28</td><td>0</td><td>1</td><td>Fortune, Mr. Charles Alexander</td><td>male</td><td>19.0</td><td>3</td><td>2</td><td>19950</td><td>263.0</td><td>C23 C25 C27</td><td>S</td></tr><tr><th>29</th><td>29</td><td>1</td><td>3</td><td>O'Dwyer, Miss. Ellen \"Nellie\"</td><td>female</td><td>NA</td><td>0</td><td>0</td><td>330959</td><td>7.8792</td><td>NA</td><td>Q</td></tr><tr><th>30</th><td>30</td><td>0</td><td>3</td><td>Todoroff, Mr. Lalio</td><td>male</td><td>NA</td><td>0</td><td>0</td><td>349216</td><td>7.8958</td><td>NA</td><td>S</td></tr><tr><th>&vellip;</th><td>&vellip;</td><td>&vellip;</td><td>&vellip;</td><td>&vellip;</td><td>&vellip;</td><td>&vellip;</td><td>&vellip;</td><td>&vellip;</td><td>&vellip;</td><td>&vellip;</td><td>&vellip;</td><td>&vellip;</td></tr></tbody></table>"
      ],
      "text/plain": [
       "891×12 DataFrames.DataFrame\n",
       "│ Row │ PassengerId │ Survived │ Pclass │\n",
       "├─────┼─────────────┼──────────┼────────┤\n",
       "│ 1   │ 1           │ 0        │ 3      │\n",
       "│ 2   │ 2           │ 1        │ 1      │\n",
       "│ 3   │ 3           │ 1        │ 3      │\n",
       "│ 4   │ 4           │ 1        │ 1      │\n",
       "│ 5   │ 5           │ 0        │ 3      │\n",
       "│ 6   │ 6           │ 0        │ 3      │\n",
       "│ 7   │ 7           │ 0        │ 1      │\n",
       "│ 8   │ 8           │ 0        │ 3      │\n",
       "│ 9   │ 9           │ 1        │ 3      │\n",
       "│ 10  │ 10          │ 1        │ 2      │\n",
       "│ 11  │ 11          │ 1        │ 3      │\n",
       "⋮\n",
       "│ 880 │ 880         │ 1        │ 1      │\n",
       "│ 881 │ 881         │ 1        │ 2      │\n",
       "│ 882 │ 882         │ 0        │ 3      │\n",
       "│ 883 │ 883         │ 0        │ 3      │\n",
       "│ 884 │ 884         │ 0        │ 2      │\n",
       "│ 885 │ 885         │ 0        │ 3      │\n",
       "│ 886 │ 886         │ 0        │ 3      │\n",
       "│ 887 │ 887         │ 0        │ 2      │\n",
       "│ 888 │ 888         │ 1        │ 1      │\n",
       "│ 889 │ 889         │ 0        │ 3      │\n",
       "│ 890 │ 890         │ 1        │ 1      │\n",
       "│ 891 │ 891         │ 0        │ 3      │\n",
       "\n",
       "│ Row │ Name                                                  │ Sex      │\n",
       "├─────┼───────────────────────────────────────────────────────┼──────────┤\n",
       "│ 1   │ \"Braund, Mr. Owen Harris\"                             │ \"male\"   │\n",
       "│ 2   │ \"Cumings, Mrs. John Bradley (Florence Briggs Thayer)\" │ \"female\" │\n",
       "│ 3   │ \"Heikkinen, Miss. Laina\"                              │ \"female\" │\n",
       "│ 4   │ \"Futrelle, Mrs. Jacques Heath (Lily May Peel)\"        │ \"female\" │\n",
       "│ 5   │ \"Allen, Mr. William Henry\"                            │ \"male\"   │\n",
       "│ 6   │ \"Moran, Mr. James\"                                    │ \"male\"   │\n",
       "│ 7   │ \"McCarthy, Mr. Timothy J\"                             │ \"male\"   │\n",
       "│ 8   │ \"Palsson, Master. Gosta Leonard\"                      │ \"male\"   │\n",
       "│ 9   │ \"Johnson, Mrs. Oscar W (Elisabeth Vilhelmina Berg)\"   │ \"female\" │\n",
       "│ 10  │ \"Nasser, Mrs. Nicholas (Adele Achem)\"                 │ \"female\" │\n",
       "│ 11  │ \"Sandstrom, Miss. Marguerite Rut\"                     │ \"female\" │\n",
       "⋮\n",
       "│ 880 │ \"Potter, Mrs. Thomas Jr (Lily Alexenia Wilson)\"       │ \"female\" │\n",
       "│ 881 │ \"Shelley, Mrs. William (Imanita Parrish Hall)\"        │ \"female\" │\n",
       "│ 882 │ \"Markun, Mr. Johann\"                                  │ \"male\"   │\n",
       "│ 883 │ \"Dahlberg, Miss. Gerda Ulrika\"                        │ \"female\" │\n",
       "│ 884 │ \"Banfield, Mr. Frederick James\"                       │ \"male\"   │\n",
       "│ 885 │ \"Sutehall, Mr. Henry Jr\"                              │ \"male\"   │\n",
       "│ 886 │ \"Rice, Mrs. William (Margaret Norton)\"                │ \"female\" │\n",
       "│ 887 │ \"Montvila, Rev. Juozas\"                               │ \"male\"   │\n",
       "│ 888 │ \"Graham, Miss. Margaret Edith\"                        │ \"female\" │\n",
       "│ 889 │ \"Johnston, Miss. Catherine Helen \\\"Carrie\\\"\"            │ \"female\" │\n",
       "│ 890 │ \"Behr, Mr. Karl Howell\"                               │ \"male\"   │\n",
       "│ 891 │ \"Dooley, Mr. Patrick\"                                 │ \"male\"   │\n",
       "\n",
       "│ Row │ Age  │ SibSp │ Parch │ Ticket             │ Fare    │ Cabin  │\n",
       "├─────┼──────┼───────┼───────┼────────────────────┼─────────┼────────┤\n",
       "│ 1   │ 22.0 │ 1     │ 0     │ \"A/5 21171\"        │ 7.25    │ NA     │\n",
       "│ 2   │ 38.0 │ 1     │ 0     │ \"PC 17599\"         │ 71.2833 │ \"C85\"  │\n",
       "│ 3   │ 26.0 │ 0     │ 0     │ \"STON/O2. 3101282\" │ 7.925   │ NA     │\n",
       "│ 4   │ 35.0 │ 1     │ 0     │ \"113803\"           │ 53.1    │ \"C123\" │\n",
       "│ 5   │ 35.0 │ 0     │ 0     │ \"373450\"           │ 8.05    │ NA     │\n",
       "│ 6   │ NA   │ 0     │ 0     │ \"330877\"           │ 8.4583  │ NA     │\n",
       "│ 7   │ 54.0 │ 0     │ 0     │ \"17463\"            │ 51.8625 │ \"E46\"  │\n",
       "│ 8   │ 2.0  │ 3     │ 1     │ \"349909\"           │ 21.075  │ NA     │\n",
       "│ 9   │ 27.0 │ 0     │ 2     │ \"347742\"           │ 11.1333 │ NA     │\n",
       "│ 10  │ 14.0 │ 1     │ 0     │ \"237736\"           │ 30.0708 │ NA     │\n",
       "│ 11  │ 4.0  │ 1     │ 1     │ \"PP 9549\"          │ 16.7    │ \"G6\"   │\n",
       "⋮\n",
       "│ 880 │ 56.0 │ 0     │ 1     │ \"11767\"            │ 83.1583 │ \"C50\"  │\n",
       "│ 881 │ 25.0 │ 0     │ 1     │ \"230433\"           │ 26.0    │ NA     │\n",
       "│ 882 │ 33.0 │ 0     │ 0     │ \"349257\"           │ 7.8958  │ NA     │\n",
       "│ 883 │ 22.0 │ 0     │ 0     │ \"7552\"             │ 10.5167 │ NA     │\n",
       "│ 884 │ 28.0 │ 0     │ 0     │ \"C.A./SOTON 34068\" │ 10.5    │ NA     │\n",
       "│ 885 │ 25.0 │ 0     │ 0     │ \"SOTON/OQ 392076\"  │ 7.05    │ NA     │\n",
       "│ 886 │ 39.0 │ 0     │ 5     │ \"382652\"           │ 29.125  │ NA     │\n",
       "│ 887 │ 27.0 │ 0     │ 0     │ \"211536\"           │ 13.0    │ NA     │\n",
       "│ 888 │ 19.0 │ 0     │ 0     │ \"112053\"           │ 30.0    │ \"B42\"  │\n",
       "│ 889 │ NA   │ 1     │ 2     │ \"W./C. 6607\"       │ 23.45   │ NA     │\n",
       "│ 890 │ 26.0 │ 0     │ 0     │ \"111369\"           │ 30.0    │ \"C148\" │\n",
       "│ 891 │ 32.0 │ 0     │ 0     │ \"370376\"           │ 7.75    │ NA     │\n",
       "\n",
       "│ Row │ Embarked │\n",
       "├─────┼──────────┤\n",
       "│ 1   │ \"S\"      │\n",
       "│ 2   │ \"C\"      │\n",
       "│ 3   │ \"S\"      │\n",
       "│ 4   │ \"S\"      │\n",
       "│ 5   │ \"S\"      │\n",
       "│ 6   │ \"Q\"      │\n",
       "│ 7   │ \"S\"      │\n",
       "│ 8   │ \"S\"      │\n",
       "│ 9   │ \"S\"      │\n",
       "│ 10  │ \"C\"      │\n",
       "│ 11  │ \"S\"      │\n",
       "⋮\n",
       "│ 880 │ \"C\"      │\n",
       "│ 881 │ \"S\"      │\n",
       "│ 882 │ \"S\"      │\n",
       "│ 883 │ \"S\"      │\n",
       "│ 884 │ \"S\"      │\n",
       "│ 885 │ \"S\"      │\n",
       "│ 886 │ \"Q\"      │\n",
       "│ 887 │ \"S\"      │\n",
       "│ 888 │ \"S\"      │\n",
       "│ 889 │ \"S\"      │\n",
       "│ 890 │ \"C\"      │\n",
       "│ 891 │ \"Q\"      │"
      ]
     },
     "execution_count": 2,
     "metadata": {},
     "output_type": "execute_result"
    }
   ],
   "source": [
    "train = readtable(\"train.csv\")"
   ]
  },
  {
   "cell_type": "code",
   "execution_count": 3,
   "metadata": {},
   "outputs": [
    {
     "data": {
      "text/html": [
       "<table class=\"data-frame\"><thead><tr><th></th><th>PassengerId</th><th>Pclass</th><th>Name</th><th>Sex</th><th>Age</th><th>SibSp</th><th>Parch</th><th>Ticket</th><th>Fare</th><th>Cabin</th><th>Embarked</th></tr></thead><tbody><tr><th>1</th><td>892</td><td>3</td><td>Kelly, Mr. James</td><td>male</td><td>34.5</td><td>0</td><td>0</td><td>330911</td><td>7.8292</td><td>NA</td><td>Q</td></tr><tr><th>2</th><td>893</td><td>3</td><td>Wilkes, Mrs. James (Ellen Needs)</td><td>female</td><td>47.0</td><td>1</td><td>0</td><td>363272</td><td>7.0</td><td>NA</td><td>S</td></tr><tr><th>3</th><td>894</td><td>2</td><td>Myles, Mr. Thomas Francis</td><td>male</td><td>62.0</td><td>0</td><td>0</td><td>240276</td><td>9.6875</td><td>NA</td><td>Q</td></tr><tr><th>4</th><td>895</td><td>3</td><td>Wirz, Mr. Albert</td><td>male</td><td>27.0</td><td>0</td><td>0</td><td>315154</td><td>8.6625</td><td>NA</td><td>S</td></tr><tr><th>5</th><td>896</td><td>3</td><td>Hirvonen, Mrs. Alexander (Helga E Lindqvist)</td><td>female</td><td>22.0</td><td>1</td><td>1</td><td>3101298</td><td>12.2875</td><td>NA</td><td>S</td></tr><tr><th>6</th><td>897</td><td>3</td><td>Svensson, Mr. Johan Cervin</td><td>male</td><td>14.0</td><td>0</td><td>0</td><td>7538</td><td>9.225</td><td>NA</td><td>S</td></tr><tr><th>7</th><td>898</td><td>3</td><td>Connolly, Miss. Kate</td><td>female</td><td>30.0</td><td>0</td><td>0</td><td>330972</td><td>7.6292</td><td>NA</td><td>Q</td></tr><tr><th>8</th><td>899</td><td>2</td><td>Caldwell, Mr. Albert Francis</td><td>male</td><td>26.0</td><td>1</td><td>1</td><td>248738</td><td>29.0</td><td>NA</td><td>S</td></tr><tr><th>9</th><td>900</td><td>3</td><td>Abrahim, Mrs. Joseph (Sophie Halaut Easu)</td><td>female</td><td>18.0</td><td>0</td><td>0</td><td>2657</td><td>7.2292</td><td>NA</td><td>C</td></tr><tr><th>10</th><td>901</td><td>3</td><td>Davies, Mr. John Samuel</td><td>male</td><td>21.0</td><td>2</td><td>0</td><td>A/4 48871</td><td>24.15</td><td>NA</td><td>S</td></tr><tr><th>11</th><td>902</td><td>3</td><td>Ilieff, Mr. Ylio</td><td>male</td><td>NA</td><td>0</td><td>0</td><td>349220</td><td>7.8958</td><td>NA</td><td>S</td></tr><tr><th>12</th><td>903</td><td>1</td><td>Jones, Mr. Charles Cresson</td><td>male</td><td>46.0</td><td>0</td><td>0</td><td>694</td><td>26.0</td><td>NA</td><td>S</td></tr><tr><th>13</th><td>904</td><td>1</td><td>Snyder, Mrs. John Pillsbury (Nelle Stevenson)</td><td>female</td><td>23.0</td><td>1</td><td>0</td><td>21228</td><td>82.2667</td><td>B45</td><td>S</td></tr><tr><th>14</th><td>905</td><td>2</td><td>Howard, Mr. Benjamin</td><td>male</td><td>63.0</td><td>1</td><td>0</td><td>24065</td><td>26.0</td><td>NA</td><td>S</td></tr><tr><th>15</th><td>906</td><td>1</td><td>Chaffee, Mrs. Herbert Fuller (Carrie Constance Toogood)</td><td>female</td><td>47.0</td><td>1</td><td>0</td><td>W.E.P. 5734</td><td>61.175</td><td>E31</td><td>S</td></tr><tr><th>16</th><td>907</td><td>2</td><td>del Carlo, Mrs. Sebastiano (Argenia Genovesi)</td><td>female</td><td>24.0</td><td>1</td><td>0</td><td>SC/PARIS 2167</td><td>27.7208</td><td>NA</td><td>C</td></tr><tr><th>17</th><td>908</td><td>2</td><td>Keane, Mr. Daniel</td><td>male</td><td>35.0</td><td>0</td><td>0</td><td>233734</td><td>12.35</td><td>NA</td><td>Q</td></tr><tr><th>18</th><td>909</td><td>3</td><td>Assaf, Mr. Gerios</td><td>male</td><td>21.0</td><td>0</td><td>0</td><td>2692</td><td>7.225</td><td>NA</td><td>C</td></tr><tr><th>19</th><td>910</td><td>3</td><td>Ilmakangas, Miss. Ida Livija</td><td>female</td><td>27.0</td><td>1</td><td>0</td><td>STON/O2. 3101270</td><td>7.925</td><td>NA</td><td>S</td></tr><tr><th>20</th><td>911</td><td>3</td><td>Assaf Khalil, Mrs. Mariana (Miriam\")\"</td><td>female</td><td>45.0</td><td>0</td><td>0</td><td>2696</td><td>7.225</td><td>NA</td><td>C</td></tr><tr><th>21</th><td>912</td><td>1</td><td>Rothschild, Mr. Martin</td><td>male</td><td>55.0</td><td>1</td><td>0</td><td>PC 17603</td><td>59.4</td><td>NA</td><td>C</td></tr><tr><th>22</th><td>913</td><td>3</td><td>Olsen, Master. Artur Karl</td><td>male</td><td>9.0</td><td>0</td><td>1</td><td>C 17368</td><td>3.1708</td><td>NA</td><td>S</td></tr><tr><th>23</th><td>914</td><td>1</td><td>Flegenheim, Mrs. Alfred (Antoinette)</td><td>female</td><td>NA</td><td>0</td><td>0</td><td>PC 17598</td><td>31.6833</td><td>NA</td><td>S</td></tr><tr><th>24</th><td>915</td><td>1</td><td>Williams, Mr. Richard Norris II</td><td>male</td><td>21.0</td><td>0</td><td>1</td><td>PC 17597</td><td>61.3792</td><td>NA</td><td>C</td></tr><tr><th>25</th><td>916</td><td>1</td><td>Ryerson, Mrs. Arthur Larned (Emily Maria Borie)</td><td>female</td><td>48.0</td><td>1</td><td>3</td><td>PC 17608</td><td>262.375</td><td>B57 B59 B63 B66</td><td>C</td></tr><tr><th>26</th><td>917</td><td>3</td><td>Robins, Mr. Alexander A</td><td>male</td><td>50.0</td><td>1</td><td>0</td><td>A/5. 3337</td><td>14.5</td><td>NA</td><td>S</td></tr><tr><th>27</th><td>918</td><td>1</td><td>Ostby, Miss. Helene Ragnhild</td><td>female</td><td>22.0</td><td>0</td><td>1</td><td>113509</td><td>61.9792</td><td>B36</td><td>C</td></tr><tr><th>28</th><td>919</td><td>3</td><td>Daher, Mr. Shedid</td><td>male</td><td>22.5</td><td>0</td><td>0</td><td>2698</td><td>7.225</td><td>NA</td><td>C</td></tr><tr><th>29</th><td>920</td><td>1</td><td>Brady, Mr. John Bertram</td><td>male</td><td>41.0</td><td>0</td><td>0</td><td>113054</td><td>30.5</td><td>A21</td><td>S</td></tr><tr><th>30</th><td>921</td><td>3</td><td>Samaan, Mr. Elias</td><td>male</td><td>NA</td><td>2</td><td>0</td><td>2662</td><td>21.6792</td><td>NA</td><td>C</td></tr><tr><th>&vellip;</th><td>&vellip;</td><td>&vellip;</td><td>&vellip;</td><td>&vellip;</td><td>&vellip;</td><td>&vellip;</td><td>&vellip;</td><td>&vellip;</td><td>&vellip;</td><td>&vellip;</td><td>&vellip;</td></tr></tbody></table>"
      ],
      "text/plain": [
       "418×11 DataFrames.DataFrame\n",
       "│ Row │ PassengerId │ Pclass │\n",
       "├─────┼─────────────┼────────┤\n",
       "│ 1   │ 892         │ 3      │\n",
       "│ 2   │ 893         │ 3      │\n",
       "│ 3   │ 894         │ 2      │\n",
       "│ 4   │ 895         │ 3      │\n",
       "│ 5   │ 896         │ 3      │\n",
       "│ 6   │ 897         │ 3      │\n",
       "│ 7   │ 898         │ 3      │\n",
       "│ 8   │ 899         │ 2      │\n",
       "│ 9   │ 900         │ 3      │\n",
       "│ 10  │ 901         │ 3      │\n",
       "│ 11  │ 902         │ 3      │\n",
       "⋮\n",
       "│ 407 │ 1298        │ 2      │\n",
       "│ 408 │ 1299        │ 1      │\n",
       "│ 409 │ 1300        │ 3      │\n",
       "│ 410 │ 1301        │ 3      │\n",
       "│ 411 │ 1302        │ 3      │\n",
       "│ 412 │ 1303        │ 1      │\n",
       "│ 413 │ 1304        │ 3      │\n",
       "│ 414 │ 1305        │ 3      │\n",
       "│ 415 │ 1306        │ 1      │\n",
       "│ 416 │ 1307        │ 3      │\n",
       "│ 417 │ 1308        │ 3      │\n",
       "│ 418 │ 1309        │ 3      │\n",
       "\n",
       "│ Row │ Name                                              │ Sex      │ Age  │\n",
       "├─────┼───────────────────────────────────────────────────┼──────────┼──────┤\n",
       "│ 1   │ \"Kelly, Mr. James\"                                │ \"male\"   │ 34.5 │\n",
       "│ 2   │ \"Wilkes, Mrs. James (Ellen Needs)\"                │ \"female\" │ 47.0 │\n",
       "│ 3   │ \"Myles, Mr. Thomas Francis\"                       │ \"male\"   │ 62.0 │\n",
       "│ 4   │ \"Wirz, Mr. Albert\"                                │ \"male\"   │ 27.0 │\n",
       "│ 5   │ \"Hirvonen, Mrs. Alexander (Helga E Lindqvist)\"    │ \"female\" │ 22.0 │\n",
       "│ 6   │ \"Svensson, Mr. Johan Cervin\"                      │ \"male\"   │ 14.0 │\n",
       "│ 7   │ \"Connolly, Miss. Kate\"                            │ \"female\" │ 30.0 │\n",
       "│ 8   │ \"Caldwell, Mr. Albert Francis\"                    │ \"male\"   │ 26.0 │\n",
       "│ 9   │ \"Abrahim, Mrs. Joseph (Sophie Halaut Easu)\"       │ \"female\" │ 18.0 │\n",
       "│ 10  │ \"Davies, Mr. John Samuel\"                         │ \"male\"   │ 21.0 │\n",
       "│ 11  │ \"Ilieff, Mr. Ylio\"                                │ \"male\"   │ NA   │\n",
       "⋮\n",
       "│ 407 │ \"Ware, Mr. William Jeffery\"                       │ \"male\"   │ 23.0 │\n",
       "│ 408 │ \"Widener, Mr. George Dunton\"                      │ \"male\"   │ 50.0 │\n",
       "│ 409 │ \"Riordan, Miss. Johanna Hannah\\\"\\\"\"                 │ \"female\" │ NA   │\n",
       "│ 410 │ \"Peacock, Miss. Treasteall\"                       │ \"female\" │ 3.0  │\n",
       "│ 411 │ \"Naughton, Miss. Hannah\"                          │ \"female\" │ NA   │\n",
       "│ 412 │ \"Minahan, Mrs. William Edward (Lillian E Thorpe)\" │ \"female\" │ 37.0 │\n",
       "│ 413 │ \"Henriksson, Miss. Jenny Lovisa\"                  │ \"female\" │ 28.0 │\n",
       "│ 414 │ \"Spector, Mr. Woolf\"                              │ \"male\"   │ NA   │\n",
       "│ 415 │ \"Oliva y Ocana, Dona. Fermina\"                    │ \"female\" │ 39.0 │\n",
       "│ 416 │ \"Saether, Mr. Simon Sivertsen\"                    │ \"male\"   │ 38.5 │\n",
       "│ 417 │ \"Ware, Mr. Frederick\"                             │ \"male\"   │ NA   │\n",
       "│ 418 │ \"Peter, Master. Michael J\"                        │ \"male\"   │ NA   │\n",
       "\n",
       "│ Row │ SibSp │ Parch │ Ticket               │ Fare    │ Cabin  │ Embarked │\n",
       "├─────┼───────┼───────┼──────────────────────┼─────────┼────────┼──────────┤\n",
       "│ 1   │ 0     │ 0     │ \"330911\"             │ 7.8292  │ NA     │ \"Q\"      │\n",
       "│ 2   │ 1     │ 0     │ \"363272\"             │ 7.0     │ NA     │ \"S\"      │\n",
       "│ 3   │ 0     │ 0     │ \"240276\"             │ 9.6875  │ NA     │ \"Q\"      │\n",
       "│ 4   │ 0     │ 0     │ \"315154\"             │ 8.6625  │ NA     │ \"S\"      │\n",
       "│ 5   │ 1     │ 1     │ \"3101298\"            │ 12.2875 │ NA     │ \"S\"      │\n",
       "│ 6   │ 0     │ 0     │ \"7538\"               │ 9.225   │ NA     │ \"S\"      │\n",
       "│ 7   │ 0     │ 0     │ \"330972\"             │ 7.6292  │ NA     │ \"Q\"      │\n",
       "│ 8   │ 1     │ 1     │ \"248738\"             │ 29.0    │ NA     │ \"S\"      │\n",
       "│ 9   │ 0     │ 0     │ \"2657\"               │ 7.2292  │ NA     │ \"C\"      │\n",
       "│ 10  │ 2     │ 0     │ \"A/4 48871\"          │ 24.15   │ NA     │ \"S\"      │\n",
       "│ 11  │ 0     │ 0     │ \"349220\"             │ 7.8958  │ NA     │ \"S\"      │\n",
       "⋮\n",
       "│ 407 │ 1     │ 0     │ \"28666\"              │ 10.5    │ NA     │ \"S\"      │\n",
       "│ 408 │ 1     │ 1     │ \"113503\"             │ 211.5   │ \"C80\"  │ \"C\"      │\n",
       "│ 409 │ 0     │ 0     │ \"334915\"             │ 7.7208  │ NA     │ \"Q\"      │\n",
       "│ 410 │ 1     │ 1     │ \"SOTON/O.Q. 3101315\" │ 13.775  │ NA     │ \"S\"      │\n",
       "│ 411 │ 0     │ 0     │ \"365237\"             │ 7.75    │ NA     │ \"Q\"      │\n",
       "│ 412 │ 1     │ 0     │ \"19928\"              │ 90.0    │ \"C78\"  │ \"Q\"      │\n",
       "│ 413 │ 0     │ 0     │ \"347086\"             │ 7.775   │ NA     │ \"S\"      │\n",
       "│ 414 │ 0     │ 0     │ \"A.5. 3236\"          │ 8.05    │ NA     │ \"S\"      │\n",
       "│ 415 │ 0     │ 0     │ \"PC 17758\"           │ 108.9   │ \"C105\" │ \"C\"      │\n",
       "│ 416 │ 0     │ 0     │ \"SOTON/O.Q. 3101262\" │ 7.25    │ NA     │ \"S\"      │\n",
       "│ 417 │ 0     │ 0     │ \"359309\"             │ 8.05    │ NA     │ \"S\"      │\n",
       "│ 418 │ 1     │ 1     │ \"2668\"               │ 22.3583 │ NA     │ \"C\"      │"
      ]
     },
     "execution_count": 3,
     "metadata": {},
     "output_type": "execute_result"
    }
   ],
   "source": [
    "test = readtable(\"test.csv\")"
   ]
  },
  {
   "cell_type": "code",
   "execution_count": 4,
   "metadata": {},
   "outputs": [
    {
     "name": "stdout",
     "output_type": "stream",
     "text": [
      "Numbers of Row in Train: 891\n",
      "Numbers of Row in Test: 418\n"
     ]
    }
   ],
   "source": [
    "println(\"Numbers of Row in Train: \", size(train)[1])\n",
    "println(\"Numbers of Row in Test: \", size(test)[1])"
   ]
  },
  {
   "cell_type": "code",
   "execution_count": 5,
   "metadata": {},
   "outputs": [
    {
     "name": "stdout",
     "output_type": "stream",
     "text": [
      "PassengerId\n",
      "Summary Stats:\n",
      "Mean:           446.000000\n",
      "Minimum:        1.000000\n",
      "1st Quartile:   223.500000\n",
      "Median:         446.000000\n",
      "3rd Quartile:   668.500000\n",
      "Maximum:        891.000000\n",
      "Length:         891\n",
      "Type:           Int64\n",
      "Number Missing: 0\n",
      "% Missing:      0.000000\n",
      "\n",
      "Survived\n",
      "Summary Stats:\n",
      "Mean:           0.383838\n",
      "Minimum:        0.000000\n",
      "1st Quartile:   0.000000\n",
      "Median:         0.000000\n",
      "3rd Quartile:   1.000000\n",
      "Maximum:        1.000000\n",
      "Length:         891\n",
      "Type:           Int64\n",
      "Number Missing: 0\n",
      "% Missing:      0.000000\n",
      "\n",
      "Pclass\n",
      "Summary Stats:\n",
      "Mean:           2.308642\n",
      "Minimum:        1.000000\n",
      "1st Quartile:   2.000000\n",
      "Median:         3.000000\n",
      "3rd Quartile:   3.000000\n",
      "Maximum:        3.000000\n",
      "Length:         891\n",
      "Type:           Int64\n",
      "Number Missing: 0\n",
      "% Missing:      0.000000\n",
      "\n",
      "Name\n",
      "Summary Stats:\n",
      "Length:         891\n",
      "Type:           String\n",
      "Number Unique:  891\n",
      "Number Missing: 0\n",
      "% Missing:      0.000000\n",
      "\n",
      "Sex\n",
      "Summary Stats:\n",
      "Length:         891\n",
      "Type:           String\n",
      "Number Unique:  2\n",
      "Number Missing: 0\n",
      "% Missing:      0.000000\n",
      "\n",
      "Age\n",
      "Summary Stats:\n",
      "Mean:           29.699118\n",
      "Minimum:        0.420000\n",
      "1st Quartile:   20.125000\n",
      "Median:         28.000000\n",
      "3rd Quartile:   38.000000\n",
      "Maximum:        80.000000\n",
      "Length:         714\n",
      "Type:           Float64\n",
      "Number Missing: 177\n",
      "% Missing:      19.865320\n",
      "\n",
      "SibSp\n",
      "Summary Stats:\n",
      "Mean:           0.523008\n",
      "Minimum:        0.000000\n",
      "1st Quartile:   0.000000\n",
      "Median:         0.000000\n",
      "3rd Quartile:   1.000000\n",
      "Maximum:        8.000000\n",
      "Length:         891\n",
      "Type:           Int64\n",
      "Number Missing: 0\n",
      "% Missing:      0.000000\n",
      "\n",
      "Parch\n",
      "Summary Stats:\n",
      "Mean:           0.381594\n",
      "Minimum:        0.000000\n",
      "1st Quartile:   0.000000\n",
      "Median:         0.000000\n",
      "3rd Quartile:   0.000000\n",
      "Maximum:        6.000000\n",
      "Length:         891\n",
      "Type:           Int64\n",
      "Number Missing: 0\n",
      "% Missing:      0.000000\n",
      "\n",
      "Ticket\n",
      "Summary Stats:\n",
      "Length:         891\n",
      "Type:           String\n",
      "Number Unique:  681\n",
      "Number Missing: 0\n",
      "% Missing:      0.000000\n",
      "\n",
      "Fare\n",
      "Summary Stats:\n",
      "Mean:           32.204208\n",
      "Minimum:        0.000000\n",
      "1st Quartile:   7.910400\n",
      "Median:         14.454200\n",
      "3rd Quartile:   31.000000\n",
      "Maximum:        512.329200\n",
      "Length:         891\n",
      "Type:           Float64\n",
      "Number Missing: 0\n",
      "% Missing:      0.000000\n",
      "\n",
      "Cabin\n",
      "Summary Stats:\n",
      "Length:         891\n",
      "Type:           String\n",
      "Number Unique:  148\n",
      "Number Missing: 687\n",
      "% Missing:      77.104377\n",
      "\n",
      "Embarked\n",
      "Summary Stats:\n",
      "Length:         891\n",
      "Type:           String\n",
      "Number Unique:  4\n",
      "Number Missing: 2\n",
      "% Missing:      0.224467\n",
      "\n"
     ]
    }
   ],
   "source": [
    "describe(train)"
   ]
  },
  {
   "cell_type": "code",
   "execution_count": 6,
   "metadata": {},
   "outputs": [
    {
     "data": {
      "text/plain": [
       "12-element Array{Type,1}:\n",
       " Int64  \n",
       " Int64  \n",
       " Int64  \n",
       " String \n",
       " String \n",
       " Float64\n",
       " Int64  \n",
       " Int64  \n",
       " String \n",
       " Float64\n",
       " String \n",
       " String "
      ]
     },
     "execution_count": 6,
     "metadata": {},
     "output_type": "execute_result"
    }
   ],
   "source": [
    "eltypes(train)"
   ]
  },
  {
   "cell_type": "code",
   "execution_count": 7,
   "metadata": {},
   "outputs": [
    {
     "data": {
      "text/plain": [
       "11-element Array{Type,1}:\n",
       " Int64  \n",
       " Int64  \n",
       " String \n",
       " String \n",
       " Float64\n",
       " Int64  \n",
       " Int64  \n",
       " String \n",
       " Float64\n",
       " String \n",
       " String "
      ]
     },
     "execution_count": 7,
     "metadata": {},
     "output_type": "execute_result"
    }
   ],
   "source": [
    "eltypes(test)"
   ]
  },
  {
   "cell_type": "code",
   "execution_count": 8,
   "metadata": {},
   "outputs": [
    {
     "data": {
      "text/plain": [
       "2-element Array{Int64,1}:\n",
       " 549\n",
       " 342"
      ]
     },
     "execution_count": 8,
     "metadata": {},
     "output_type": "execute_result"
    }
   ],
   "source": [
    "counts(train[:Survived])"
   ]
  },
  {
   "cell_type": "code",
   "execution_count": 9,
   "metadata": {},
   "outputs": [
    {
     "data": {
      "text/plain": [
       "Dict{Union{DataArrays.NAtype, Int64},Int64} with 2 entries:\n",
       "  0 => 549\n",
       "  1 => 342"
      ]
     },
     "execution_count": 9,
     "metadata": {},
     "output_type": "execute_result"
    }
   ],
   "source": [
    "countmap(train[:Survived])"
   ]
  },
  {
   "cell_type": "code",
   "execution_count": 10,
   "metadata": {},
   "outputs": [
    {
     "data": {
      "text/plain": [
       "Dict{Union{DataArrays.NAtype, Int64},Float64} with 2 entries:\n",
       "  0 => 0.616162\n",
       "  1 => 0.383838"
      ]
     },
     "execution_count": 10,
     "metadata": {},
     "output_type": "execute_result"
    }
   ],
   "source": [
    "proportionmap(train[:Survived])"
   ]
  },
  {
   "cell_type": "code",
   "execution_count": 11,
   "metadata": {},
   "outputs": [
    {
     "name": "stderr",
     "output_type": "stream",
     "text": [
      "WARNING: both Gadfly and Base export \"cross\"; uses of it in module Main must be qualified\n",
      "WARNING: both Gadfly and Plots export \"hline\"; uses of it in module Main must be qualified\n",
      "WARNING: both Gadfly and Plots export \"plot\"; uses of it in module Main must be qualified\n",
      "WARNING: both Gadfly and Plots export \"px\"; uses of it in module Main must be qualified\n",
      "WARNING: both Gadfly and Plots export \"spy\"; uses of it in module Main must be qualified\n",
      "WARNING: both Gadfly and Plots export \"vline\"; uses of it in module Main must be qualified\n"
     ]
    }
   ],
   "source": [
    "using Gadfly"
   ]
  },
  {
   "cell_type": "code",
   "execution_count": 12,
   "metadata": {},
   "outputs": [
    {
     "ename": "LoadError",
     "evalue": "\u001b[91mUndefVarError: plot not defined\u001b[39m",
     "output_type": "error",
     "traceback": [
      "\u001b[91mUndefVarError: plot not defined\u001b[39m",
      "",
      "Stacktrace:",
      " [1] \u001b[1minclude_string\u001b[22m\u001b[22m\u001b[1m(\u001b[22m\u001b[22m::String, ::String\u001b[1m)\u001b[22m\u001b[22m at \u001b[1m./loading.jl:515\u001b[22m\u001b[22m"
     ]
    }
   ],
   "source": [
    "plot(x=rand(10), y=rand(10))\n"
   ]
  },
  {
   "cell_type": "code",
   "execution_count": null,
   "metadata": {
    "collapsed": true
   },
   "outputs": [],
   "source": []
  }
 ],
 "metadata": {
  "kernelspec": {
   "display_name": "Julia 0.6.0",
   "language": "julia",
   "name": "julia-0.6"
  },
  "language_info": {
   "file_extension": ".jl",
   "mimetype": "application/julia",
   "name": "julia",
   "version": "0.6.0"
  }
 },
 "nbformat": 4,
 "nbformat_minor": 2
}
